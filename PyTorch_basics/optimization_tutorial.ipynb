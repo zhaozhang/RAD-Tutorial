{
 "cells": [
  {
   "cell_type": "code",
   "execution_count": 1,
   "metadata": {
    "id": "1jGZmoPtEHMo"
   },
   "outputs": [],
   "source": [
    "# For tips on running notebooks in Google Colab, see\n",
    "# https://pytorch.org/tutorials/beginner/colab\n",
    "%matplotlib inline"
   ]
  },
  {
   "cell_type": "markdown",
   "metadata": {
    "id": "pq1tYY-eEHMr"
   },
   "source": [
    "[Tensors](tensorqs_tutorial.ipynb) ||\n",
    "[Datasets & DataLoaders](data_tutorial.ipynb) ||\n",
    "[Transforms](transforms_tutorial.ipynb) ||\n",
    "[Build Model](buildmodel_tutorial.ipynb) ||\n",
    "[Autograd](autogradqs_tutorial.ipynb) ||\n",
    "**Optimization** ||\n",
    "[Save & Load Model](saveloadrun_tutorial.ipynb)\n",
    "\n",
    "# Optimizing Model Parameters\n",
    "\n",
    "Now that we have a model and data it's time to train, validate and test our model by optimizing its parameters on\n",
    "our data. Training a model is an iterative process; in each iteration the model makes a guess about the output, calculates\n",
    "the error in its guess (*loss*), collects the derivatives of the error with respect to its parameters (as we saw in\n",
    "the [previous section](autograd_tutorial.html)), and **optimizes** these parameters using gradient descent. For a more\n",
    "detailed walkthrough of this process, check out this video on [backpropagation from 3Blue1Brown](https://www.youtube.com/watch?v=tIeHLnjs5U8)_.\n",
    "\n",
    "## Prerequisite Code\n",
    "We load the code from the previous sections on [Datasets & DataLoaders](data_tutorial.html)\n",
    "and [Build Model](buildmodel_tutorial.html).\n"
   ]
  },
  {
   "cell_type": "code",
   "execution_count": 2,
   "metadata": {
    "id": "6ie4pVYLEHMt"
   },
   "outputs": [
    {
     "name": "stderr",
     "output_type": "stream",
     "text": [
      "/scratch1/00946/zzhang/python-envs/venv/lib/python3.9/site-packages/torchvision/io/image.py:13: UserWarning: Failed to load image Python extension: '/scratch1/00946/zzhang/python-envs/venv/lib/python3.9/site-packages/torchvision/image.so: undefined symbol: _ZN3c104impl8GPUTrace13gpuTraceStateE'If you don't plan on using image functionality from `torchvision.io`, you can ignore this warning. Otherwise, there might be something wrong with your environment. Did you have `libjpeg` or `libpng` installed before building `torchvision` from source?\n",
      "  warn(\n"
     ]
    }
   ],
   "source": [
    "import torch\n",
    "from torch import nn\n",
    "from torch.utils.data import DataLoader\n",
    "from torchvision import datasets\n",
    "from torchvision.transforms import ToTensor\n",
    "\n",
    "training_data = datasets.FashionMNIST(\n",
    "    root=\"data\",\n",
    "    train=True,\n",
    "    download=True,\n",
    "    transform=ToTensor()\n",
    ")\n",
    "\n",
    "test_data = datasets.FashionMNIST(\n",
    "    root=\"data\",\n",
    "    train=False,\n",
    "    download=True,\n",
    "    transform=ToTensor()\n",
    ")\n",
    "\n",
    "train_dataloader = DataLoader(training_data, batch_size=64)\n",
    "test_dataloader = DataLoader(test_data, batch_size=64)\n",
    "\n",
    "class NeuralNetwork(nn.Module):\n",
    "    def __init__(self):\n",
    "        super(NeuralNetwork, self).__init__()\n",
    "        self.flatten = nn.Flatten()\n",
    "        self.linear_relu_stack = nn.Sequential(\n",
    "            nn.Linear(28*28, 512),\n",
    "            nn.ReLU(),\n",
    "            nn.Linear(512, 512),\n",
    "            nn.ReLU(),\n",
    "            nn.Linear(512, 10),\n",
    "        )\n",
    "\n",
    "    def forward(self, x):\n",
    "        x = self.flatten(x)\n",
    "        logits = self.linear_relu_stack(x)\n",
    "        return logits\n",
    "\n",
    "model = NeuralNetwork()"
   ]
  },
  {
   "cell_type": "markdown",
   "metadata": {
    "id": "tgAmRCS9EHMu"
   },
   "source": [
    "## Hyperparameters\n",
    "\n",
    "Hyperparameters are adjustable parameters that let you control the model optimization process.\n",
    "Different hyperparameter values can impact model training and convergence rates\n",
    "([read more](https://pytorch.org/tutorials/beginner/hyperparameter_tuning_tutorial.html)_ about hyperparameter tuning)\n",
    "\n",
    "We define the following hyperparameters for training:\n",
    " - **Number of Epochs** - the number times to iterate over the dataset\n",
    " - **Batch Size** - the number of data samples propagated through the network before the parameters are updated\n",
    " - **Learning Rate** - how much to update models parameters at each batch/epoch. Smaller values yield slow learning speed, while large values may result in unpredictable behavior during training.\n",
    "\n",
    "\n"
   ]
  },
  {
   "cell_type": "code",
   "execution_count": 3,
   "metadata": {
    "id": "llDdoMPgEHMu"
   },
   "outputs": [],
   "source": [
    "learning_rate = 1e-3\n",
    "batch_size = 64\n",
    "epochs = 5"
   ]
  },
  {
   "cell_type": "markdown",
   "metadata": {
    "id": "08DhY2WGEHMv"
   },
   "source": [
    "## Optimization Loop\n",
    "\n",
    "Once we set our hyperparameters, we can then train and optimize our model with an optimization loop. Each\n",
    "iteration of the optimization loop is called an **epoch**.\n",
    "\n",
    "Each epoch consists of two main parts:\n",
    " - **The Train Loop** - iterate over the training dataset and try to converge to optimal parameters.\n",
    " - **The Validation/Test Loop** - iterate over the test dataset to check if model performance is improving.\n",
    "\n",
    "Let's briefly familiarize ourselves with some of the concepts used in the training loop. Jump ahead to\n",
    "see the `full-impl-label` of the optimization loop.\n",
    "\n",
    "### Loss Function\n",
    "\n",
    "When presented with some training data, our untrained network is likely not to give the correct\n",
    "answer. **Loss function** measures the degree of dissimilarity of obtained result to the target value,\n",
    "and it is the loss function that we want to minimize during training. To calculate the loss we make a\n",
    "prediction using the inputs of our given data sample and compare it against the true data label value.\n",
    "\n",
    "Common loss functions include [nn.MSELoss](https://pytorch.org/docs/stable/generated/torch.nn.MSELoss.html#torch.nn.MSELoss) (Mean Square Error) for regression tasks, and\n",
    "[nn.NLLLoss](https://pytorch.org/docs/stable/generated/torch.nn.NLLLoss.html#torch.nn.NLLLoss) (Negative Log Likelihood) for classification.\n",
    "[nn.CrossEntropyLoss](https://pytorch.org/docs/stable/generated/torch.nn.CrossEntropyLoss.html#torch.nn.CrossEntropyLoss) combines ``nn.LogSoftmax`` and ``nn.NLLLoss``.\n",
    "\n",
    "We pass our model's output logits to ``nn.CrossEntropyLoss``, which will normalize the logits and compute the prediction error.\n",
    "\n"
   ]
  },
  {
   "cell_type": "code",
   "execution_count": 4,
   "metadata": {
    "id": "HQSOGadYEHMv"
   },
   "outputs": [],
   "source": [
    "# Initialize the loss function\n",
    "loss_fn = nn.CrossEntropyLoss()"
   ]
  },
  {
   "cell_type": "markdown",
   "metadata": {
    "id": "rhFNkiq9EHMw"
   },
   "source": [
    "### Optimizer\n",
    "\n",
    "Optimization is the process of adjusting model parameters to reduce model error in each training step. **Optimization algorithms** define how this process is performed (in this example we use Stochastic Gradient Descent).\n",
    "All optimization logic is encapsulated in  the ``optimizer`` object. Here, we use the SGD optimizer; additionally, there are many [different optimizers](https://pytorch.org/docs/stable/optim.html)\n",
    "available in PyTorch such as ADAM and RMSProp, that work better for different kinds of models and data.\n",
    "\n",
    "We initialize the optimizer by registering the model's parameters that need to be trained, and passing in the learning rate hyperparameter.\n",
    "\n"
   ]
  },
  {
   "cell_type": "code",
   "execution_count": 5,
   "metadata": {
    "id": "fXTDnTqMEHMw"
   },
   "outputs": [],
   "source": [
    "optimizer = torch.optim.SGD(model.parameters(), lr=learning_rate)"
   ]
  },
  {
   "cell_type": "markdown",
   "metadata": {
    "id": "6dy-FHg1EHMx"
   },
   "source": [
    "Inside the training loop, optimization happens in three steps:\n",
    " * Call ``optimizer.zero_grad()`` to reset the gradients of model parameters. Gradients by default add up; to prevent double-counting, we explicitly zero them at each iteration.\n",
    " * Backpropagate the prediction loss with a call to ``loss.backward()``. PyTorch deposits the gradients of the loss w.r.t. each parameter.\n",
    " * Once we have our gradients, we call ``optimizer.step()`` to adjust the parameters by the gradients collected in the backward pass.\n",
    "\n"
   ]
  },
  {
   "cell_type": "markdown",
   "metadata": {
    "id": "OOf3aOQbEHMx"
   },
   "source": [
    "\n",
    "## Full Implementation\n",
    "We define ``train_loop`` that loops over our optimization code, and ``test_loop`` that\n",
    "evaluates the model's performance against our test data.\n",
    "\n"
   ]
  },
  {
   "cell_type": "code",
   "execution_count": 6,
   "metadata": {
    "id": "6xxtwUOKEHMx"
   },
   "outputs": [],
   "source": [
    "def train_loop(dataloader, model, loss_fn, optimizer):\n",
    "    size = len(dataloader.dataset)\n",
    "    for batch, (X, y) in enumerate(dataloader):\n",
    "        # Compute prediction and loss\n",
    "        pred = model(X)\n",
    "        loss = loss_fn(pred, y)\n",
    "\n",
    "        # Backpropagation\n",
    "        loss.backward()\n",
    "        optimizer.step()\n",
    "        optimizer.zero_grad()\n",
    "\n",
    "        if batch % 100 == 0:\n",
    "            loss, current = loss.item(), (batch + 1) * len(X)\n",
    "            print(f\"loss: {loss:>7f}  [{current:>5d}/{size:>5d}]\")\n",
    "\n",
    "\n",
    "def test_loop(dataloader, model, loss_fn):\n",
    "    size = len(dataloader.dataset)\n",
    "    num_batches = len(dataloader)\n",
    "    test_loss, correct = 0, 0\n",
    "\n",
    "    with torch.no_grad():\n",
    "        for X, y in dataloader:\n",
    "            pred = model(X)\n",
    "            test_loss += loss_fn(pred, y).item()\n",
    "            correct += (pred.argmax(1) == y).type(torch.float).sum().item()\n",
    "\n",
    "    test_loss /= num_batches\n",
    "    correct /= size\n",
    "    print(f\"Test Error: \\n Accuracy: {(100*correct):>0.1f}%, Avg loss: {test_loss:>8f} \\n\")"
   ]
  },
  {
   "cell_type": "markdown",
   "metadata": {
    "id": "bqK6Q55IEHMy"
   },
   "source": [
    "We initialize the loss function and optimizer, and pass it to ``train_loop`` and ``test_loop``.\n",
    "Feel free to increase the number of epochs to track the model's improving performance.\n",
    "\n"
   ]
  },
  {
   "cell_type": "code",
   "execution_count": 7,
   "metadata": {
    "id": "ehPLkdMoEHMy"
   },
   "outputs": [
    {
     "name": "stdout",
     "output_type": "stream",
     "text": [
      "Epoch 1\n",
      "-------------------------------\n",
      "loss: 2.305782  [   64/60000]\n",
      "loss: 2.295119  [ 6464/60000]\n",
      "loss: 2.274792  [12864/60000]\n",
      "loss: 2.269756  [19264/60000]\n",
      "loss: 2.268022  [25664/60000]\n",
      "loss: 2.236602  [32064/60000]\n",
      "loss: 2.241493  [38464/60000]\n",
      "loss: 2.212130  [44864/60000]\n",
      "loss: 2.204488  [51264/60000]\n",
      "loss: 2.201071  [57664/60000]\n",
      "Test Error: \n",
      " Accuracy: 34.4%, Avg loss: 2.176817 \n",
      "\n",
      "Epoch 2\n",
      "-------------------------------\n",
      "loss: 2.181773  [   64/60000]\n",
      "loss: 2.176169  [ 6464/60000]\n",
      "loss: 2.122086  [12864/60000]\n",
      "loss: 2.138503  [19264/60000]\n",
      "loss: 2.110192  [25664/60000]\n",
      "loss: 2.047873  [32064/60000]\n",
      "loss: 2.081336  [38464/60000]\n",
      "loss: 2.010720  [44864/60000]\n",
      "loss: 2.008167  [51264/60000]\n",
      "loss: 1.967643  [57664/60000]\n",
      "Test Error: \n",
      " Accuracy: 59.3%, Avg loss: 1.944975 \n",
      "\n",
      "Epoch 3\n",
      "-------------------------------\n",
      "loss: 1.973738  [   64/60000]\n",
      "loss: 1.951822  [ 6464/60000]\n",
      "loss: 1.838658  [12864/60000]\n",
      "loss: 1.875957  [19264/60000]\n",
      "loss: 1.786648  [25664/60000]\n",
      "loss: 1.721642  [32064/60000]\n",
      "loss: 1.759289  [38464/60000]\n",
      "loss: 1.650739  [44864/60000]\n",
      "loss: 1.666423  [51264/60000]\n",
      "loss: 1.581901  [57664/60000]\n",
      "Test Error: \n",
      " Accuracy: 60.4%, Avg loss: 1.576486 \n",
      "\n",
      "Epoch 4\n",
      "-------------------------------\n",
      "loss: 1.641784  [   64/60000]\n",
      "loss: 1.605385  [ 6464/60000]\n",
      "loss: 1.447566  [12864/60000]\n",
      "loss: 1.520146  [19264/60000]\n",
      "loss: 1.401397  [25664/60000]\n",
      "loss: 1.381810  [32064/60000]\n",
      "loss: 1.409772  [38464/60000]\n",
      "loss: 1.320843  [44864/60000]\n",
      "loss: 1.357994  [51264/60000]\n",
      "loss: 1.263006  [57664/60000]\n",
      "Test Error: \n",
      " Accuracy: 63.5%, Avg loss: 1.281145 \n",
      "\n",
      "Epoch 5\n",
      "-------------------------------\n",
      "loss: 1.360963  [   64/60000]\n",
      "loss: 1.340339  [ 6464/60000]\n",
      "loss: 1.169234  [12864/60000]\n",
      "loss: 1.273010  [19264/60000]\n",
      "loss: 1.150479  [25664/60000]\n",
      "loss: 1.165083  [32064/60000]\n",
      "loss: 1.192264  [38464/60000]\n",
      "loss: 1.121545  [44864/60000]\n",
      "loss: 1.168614  [51264/60000]\n",
      "loss: 1.084078  [57664/60000]\n",
      "Test Error: \n",
      " Accuracy: 64.7%, Avg loss: 1.102461 \n",
      "\n",
      "Epoch 6\n",
      "-------------------------------\n",
      "loss: 1.176377  [   64/60000]\n",
      "loss: 1.178678  [ 6464/60000]\n",
      "loss: 0.990963  [12864/60000]\n",
      "loss: 1.123065  [19264/60000]\n",
      "loss: 0.998566  [25664/60000]\n",
      "loss: 1.023152  [32064/60000]\n",
      "loss: 1.063421  [38464/60000]\n",
      "loss: 0.998391  [44864/60000]\n",
      "loss: 1.049002  [51264/60000]\n",
      "loss: 0.977577  [57664/60000]\n",
      "Test Error: \n",
      " Accuracy: 65.9%, Avg loss: 0.990100 \n",
      "\n",
      "Epoch 7\n",
      "-------------------------------\n",
      "loss: 1.050282  [   64/60000]\n",
      "loss: 1.076719  [ 6464/60000]\n",
      "loss: 0.870889  [12864/60000]\n",
      "loss: 1.025662  [19264/60000]\n",
      "loss: 0.905431  [25664/60000]\n",
      "loss: 0.924202  [32064/60000]\n",
      "loss: 0.981304  [38464/60000]\n",
      "loss: 0.919525  [44864/60000]\n",
      "loss: 0.968212  [51264/60000]\n",
      "loss: 0.907824  [57664/60000]\n",
      "Test Error: \n",
      " Accuracy: 66.9%, Avg loss: 0.915036 \n",
      "\n",
      "Epoch 8\n",
      "-------------------------------\n",
      "loss: 0.958989  [   64/60000]\n",
      "loss: 1.007198  [ 6464/60000]\n",
      "loss: 0.786352  [12864/60000]\n",
      "loss: 0.958071  [19264/60000]\n",
      "loss: 0.844692  [25664/60000]\n",
      "loss: 0.852515  [32064/60000]\n",
      "loss: 0.924648  [38464/60000]\n",
      "loss: 0.867431  [44864/60000]\n",
      "loss: 0.910669  [51264/60000]\n",
      "loss: 0.858030  [57664/60000]\n",
      "Test Error: \n",
      " Accuracy: 67.9%, Avg loss: 0.861677 \n",
      "\n",
      "Epoch 9\n",
      "-------------------------------\n",
      "loss: 0.889932  [   64/60000]\n",
      "loss: 0.955653  [ 6464/60000]\n",
      "loss: 0.723896  [12864/60000]\n",
      "loss: 0.908305  [19264/60000]\n",
      "loss: 0.802360  [25664/60000]\n",
      "loss: 0.798815  [32064/60000]\n",
      "loss: 0.882282  [38464/60000]\n",
      "loss: 0.831372  [44864/60000]\n",
      "loss: 0.867785  [51264/60000]\n",
      "loss: 0.819930  [57664/60000]\n",
      "Test Error: \n",
      " Accuracy: 69.1%, Avg loss: 0.821551 \n",
      "\n",
      "Epoch 10\n",
      "-------------------------------\n",
      "loss: 0.835465  [   64/60000]\n",
      "loss: 0.914190  [ 6464/60000]\n",
      "loss: 0.675846  [12864/60000]\n",
      "loss: 0.870102  [19264/60000]\n",
      "loss: 0.770895  [25664/60000]\n",
      "loss: 0.757826  [32064/60000]\n",
      "loss: 0.848237  [38464/60000]\n",
      "loss: 0.804973  [44864/60000]\n",
      "loss: 0.834531  [51264/60000]\n",
      "loss: 0.789222  [57664/60000]\n",
      "Test Error: \n",
      " Accuracy: 70.3%, Avg loss: 0.789722 \n",
      "\n",
      "Done!\n"
     ]
    }
   ],
   "source": [
    "loss_fn = nn.CrossEntropyLoss()\n",
    "optimizer = torch.optim.SGD(model.parameters(), lr=learning_rate)\n",
    "\n",
    "epochs = 10\n",
    "for t in range(epochs):\n",
    "    print(f\"Epoch {t+1}\\n-------------------------------\")\n",
    "    train_loop(train_dataloader, model, loss_fn, optimizer)\n",
    "    test_loop(test_dataloader, model, loss_fn)\n",
    "print(\"Done!\")"
   ]
  },
  {
   "cell_type": "markdown",
   "metadata": {
    "id": "3vsJldZWEHMy"
   },
   "source": [
    "## Further Reading\n",
    "- [Loss Functions](https://pytorch.org/docs/stable/nn.html#loss-functions)\n",
    "- [torch.optim](https://pytorch.org/docs/stable/optim.html)\n",
    "- [Warmstart Training a Model](https://pytorch.org/tutorials/recipes/recipes/warmstarting_model_using_parameters_from_a_different_model.html)\n",
    "\n",
    "\n"
   ]
  }
 ],
 "metadata": {
  "colab": {
   "provenance": []
  },
  "kernelspec": {
   "display_name": "Python 3 (ipykernel)",
   "language": "python",
   "name": "python3"
  },
  "language_info": {
   "codemirror_mode": {
    "name": "ipython",
    "version": 3
   },
   "file_extension": ".py",
   "mimetype": "text/x-python",
   "name": "python",
   "nbconvert_exporter": "python",
   "pygments_lexer": "ipython3",
   "version": "3.9.2"
  }
 },
 "nbformat": 4,
 "nbformat_minor": 1
}
