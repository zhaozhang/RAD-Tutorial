{
 "cells": [
  {
   "cell_type": "code",
   "execution_count": null,
   "id": "5feb6563",
   "metadata": {},
   "outputs": [],
   "source": [
    "! torchrun --nproc_per_node 4 torch-train-3rd-distributed.py"
   ]
  },
  {
   "cell_type": "code",
   "execution_count": null,
   "id": "28d9c735",
   "metadata": {},
   "outputs": [],
   "source": [
    "! python -m torch.distributed.launch --nproc_per_node=4 torch-train-3rd-distributed.py"
   ]
  }
 ],
 "metadata": {
  "kernelspec": {
   "display_name": "Python 3 (ipykernel)",
   "language": "python",
   "name": "python3"
  },
  "language_info": {
   "codemirror_mode": {
    "name": "ipython",
    "version": 3
   },
   "file_extension": ".py",
   "mimetype": "text/x-python",
   "name": "python",
   "nbconvert_exporter": "python",
   "pygments_lexer": "ipython3",
   "version": "3.9.2"
  }
 },
 "nbformat": 4,
 "nbformat_minor": 5
}
