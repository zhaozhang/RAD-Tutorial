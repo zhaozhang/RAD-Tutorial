{
 "cells": [
  {
   "cell_type": "code",
   "execution_count": null,
   "id": "5feb6563",
   "metadata": {},
   "outputs": [
    {
     "name": "stdout",
     "output_type": "stream",
     "text": [
      "/scratch1/00946/zzhang/python-envs/venv/lib/python3.9/site-packages/torchvision/io/image.py:13: UserWarning: Failed to load image Python extension: '/scratch1/00946/zzhang/python-envs/venv/lib/python3.9/site-packages/torchvision/image.so: undefined symbol: _ZN3c104impl8GPUTrace13gpuTraceStateE'If you don't plan on using image functionality from `torchvision.io`, you can ignore this warning. Otherwise, there might be something wrong with your environment. Did you have `libjpeg` or `libpng` installed before building `torchvision` from source?\n",
      "  warn(\n",
      "/scratch1/00946/zzhang/python-envs/venv/lib/python3.9/site-packages/torchvision/io/image.py:13: UserWarning: Failed to load image Python extension: '/scratch1/00946/zzhang/python-envs/venv/lib/python3.9/site-packages/torchvision/image.so: undefined symbol: _ZN3c104impl8GPUTrace13gpuTraceStateE'If you don't plan on using image functionality from `torchvision.io`, you can ignore this warning. Otherwise, there might be something wrong with your environment. Did you have `libjpeg` or `libpng` installed before building `torchvision` from source?\n",
      "  warn(\n",
      "/scratch1/00946/zzhang/python-envs/venv/lib/python3.9/site-packages/torchvision/io/image.py:13: UserWarning: Failed to load image Python extension: '/scratch1/00946/zzhang/python-envs/venv/lib/python3.9/site-packages/torchvision/image.so: undefined symbol: _ZN3c104impl8GPUTrace13gpuTraceStateE'If you don't plan on using image functionality from `torchvision.io`, you can ignore this warning. Otherwise, there might be something wrong with your environment. Did you have `libjpeg` or `libpng` installed before building `torchvision` from source?\n",
      "  warn(\n",
      "/scratch1/00946/zzhang/python-envs/venv/lib/python3.9/site-packages/torchvision/io/image.py:13: UserWarning: Failed to load image Python extension: '/scratch1/00946/zzhang/python-envs/venv/lib/python3.9/site-packages/torchvision/image.so: undefined symbol: _ZN3c104impl8GPUTrace13gpuTraceStateE'If you don't plan on using image functionality from `torchvision.io`, you can ignore this warning. Otherwise, there might be something wrong with your environment. Did you have `libjpeg` or `libpng` installed before building `torchvision` from source?\n",
      "  warn(\n",
      "Train set size: 1322, Validation set size: 363\n",
      "\n",
      "(Epoch 1/10) Time: 81s\n",
      "(Epoch 1/10) Average train loss: 0.02999938168308952, Average train accuracy: 0.39454546570777893\n",
      "(Epoch 1/10) Val loss: 0.053966373205184937, Val accuracy: 0.5869318246841431\n",
      "(Epoch 1/10) Current best val acc: 0.8187500238418579\n",
      "\n",
      "\n",
      "(Epoch 2/10) Time: 68s\n",
      "(Epoch 2/10) Average train loss: 0.02914466291666031, Average train accuracy: 0.4759090840816498\n",
      "(Epoch 2/10) Val loss: 0.051110923290252686, Val accuracy: 0.6903409361839294\n",
      "(Epoch 2/10) Current best val acc: 0.8187500238418579\n",
      "\n",
      "\n",
      "(Epoch 3/10) Time: 64s\n",
      "(Epoch 3/10) Average train loss: 0.0277029526098208, Average train accuracy: 0.6418182253837585\n",
      "(Epoch 3/10) Val loss: 0.04928489774465561, Val accuracy: 0.7607954740524292\n",
      "(Epoch 3/10) Current best val acc: 0.8187500238418579\n",
      "\n"
     ]
    }
   ],
   "source": [
    "! torchrun --nproc_per_node 4 torch-train-3rd-distributed.py"
   ]
  },
  {
   "cell_type": "code",
   "execution_count": null,
   "id": "28d9c735",
   "metadata": {},
   "outputs": [],
   "source": [
    "! python -m torch.distributed.launch --nproc_per_node=4 torch-train-3rd-distributed.py"
   ]
  },
  {
   "cell_type": "code",
   "execution_count": null,
   "id": "e137e736",
   "metadata": {},
   "outputs": [],
   "source": []
  }
 ],
 "metadata": {
  "kernelspec": {
   "display_name": "Python 3 (ipykernel)",
   "language": "python",
   "name": "python3"
  },
  "language_info": {
   "codemirror_mode": {
    "name": "ipython",
    "version": 3
   },
   "file_extension": ".py",
   "mimetype": "text/x-python",
   "name": "python",
   "nbconvert_exporter": "python",
   "pygments_lexer": "ipython3",
   "version": "3.9.2"
  }
 },
 "nbformat": 4,
 "nbformat_minor": 5
}
